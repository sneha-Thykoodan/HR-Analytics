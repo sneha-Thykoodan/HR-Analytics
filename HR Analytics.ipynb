{
 "cells": [
  {
   "cell_type": "code",
   "execution_count": 148,
   "metadata": {},
   "outputs": [],
   "source": [
    "import pandas as pd\n",
    "import numpy as np\n",
    "import matplotlib.pyplot as plt\n",
    "import seaborn as sns"
   ]
  },
  {
   "cell_type": "code",
   "execution_count": 149,
   "metadata": {},
   "outputs": [],
   "source": [
    "train=pd.read_csv('C:/Users/user/Downloads/train_LZdllcl.csv')\n",
    "train.set_index('employee_id',inplace=True)"
   ]
  },
  {
   "cell_type": "code",
   "execution_count": 150,
   "metadata": {},
   "outputs": [
    {
     "data": {
      "text/plain": [
       "(54808, 13)"
      ]
     },
     "execution_count": 150,
     "metadata": {},
     "output_type": "execute_result"
    }
   ],
   "source": [
    "train.shape"
   ]
  },
  {
   "cell_type": "code",
   "execution_count": 151,
   "metadata": {},
   "outputs": [],
   "source": [
    "validation=pd.read_csv('C:/Users/user/Downloads/test_2umaH9m.csv')\n",
    "\n"
   ]
  },
  {
   "cell_type": "code",
   "execution_count": 152,
   "metadata": {},
   "outputs": [
    {
     "data": {
      "text/plain": [
       "(23490, 13)"
      ]
     },
     "execution_count": 152,
     "metadata": {},
     "output_type": "execute_result"
    }
   ],
   "source": [
    "validation.shape"
   ]
  },
  {
   "cell_type": "code",
   "execution_count": 153,
   "metadata": {},
   "outputs": [],
   "source": [
    "df=pd.concat([train,validation])"
   ]
  },
  {
   "cell_type": "code",
   "execution_count": 154,
   "metadata": {},
   "outputs": [
    {
     "data": {
      "text/plain": [
       "(78298, 14)"
      ]
     },
     "execution_count": 154,
     "metadata": {},
     "output_type": "execute_result"
    }
   ],
   "source": [
    "df.shape"
   ]
  },
  {
   "cell_type": "code",
   "execution_count": 155,
   "metadata": {},
   "outputs": [
    {
     "data": {
      "text/plain": [
       "Index(['KPIs_met >80%', 'age', 'avg_training_score', 'awards_won?',\n",
       "       'department', 'education', 'employee_id', 'gender', 'is_promoted',\n",
       "       'length_of_service', 'no_of_trainings', 'previous_year_rating',\n",
       "       'recruitment_channel', 'region'],\n",
       "      dtype='object')"
      ]
     },
     "execution_count": 155,
     "metadata": {},
     "output_type": "execute_result"
    }
   ],
   "source": [
    "df.columns"
   ]
  },
  {
   "cell_type": "code",
   "execution_count": 156,
   "metadata": {},
   "outputs": [
    {
     "data": {
      "text/html": [
       "<div>\n",
       "<style scoped>\n",
       "    .dataframe tbody tr th:only-of-type {\n",
       "        vertical-align: middle;\n",
       "    }\n",
       "\n",
       "    .dataframe tbody tr th {\n",
       "        vertical-align: top;\n",
       "    }\n",
       "\n",
       "    .dataframe thead th {\n",
       "        text-align: right;\n",
       "    }\n",
       "</style>\n",
       "<table border=\"1\" class=\"dataframe\">\n",
       "  <thead>\n",
       "    <tr style=\"text-align: right;\">\n",
       "      <th></th>\n",
       "      <th>KPIs_met &gt;80%</th>\n",
       "      <th>age</th>\n",
       "      <th>avg_training_score</th>\n",
       "      <th>awards_won?</th>\n",
       "      <th>department</th>\n",
       "      <th>education</th>\n",
       "      <th>employee_id</th>\n",
       "      <th>gender</th>\n",
       "      <th>is_promoted</th>\n",
       "      <th>length_of_service</th>\n",
       "      <th>no_of_trainings</th>\n",
       "      <th>previous_year_rating</th>\n",
       "      <th>recruitment_channel</th>\n",
       "      <th>region</th>\n",
       "    </tr>\n",
       "  </thead>\n",
       "  <tbody>\n",
       "    <tr>\n",
       "      <th>65438</th>\n",
       "      <td>1</td>\n",
       "      <td>35</td>\n",
       "      <td>49</td>\n",
       "      <td>0</td>\n",
       "      <td>Sales &amp; Marketing</td>\n",
       "      <td>Master's &amp; above</td>\n",
       "      <td>NaN</td>\n",
       "      <td>f</td>\n",
       "      <td>0.0</td>\n",
       "      <td>8</td>\n",
       "      <td>1</td>\n",
       "      <td>5.0</td>\n",
       "      <td>sourcing</td>\n",
       "      <td>region_7</td>\n",
       "    </tr>\n",
       "    <tr>\n",
       "      <th>65141</th>\n",
       "      <td>0</td>\n",
       "      <td>30</td>\n",
       "      <td>60</td>\n",
       "      <td>0</td>\n",
       "      <td>Operations</td>\n",
       "      <td>Bachelor's</td>\n",
       "      <td>NaN</td>\n",
       "      <td>m</td>\n",
       "      <td>0.0</td>\n",
       "      <td>4</td>\n",
       "      <td>1</td>\n",
       "      <td>5.0</td>\n",
       "      <td>other</td>\n",
       "      <td>region_22</td>\n",
       "    </tr>\n",
       "    <tr>\n",
       "      <th>7513</th>\n",
       "      <td>0</td>\n",
       "      <td>34</td>\n",
       "      <td>50</td>\n",
       "      <td>0</td>\n",
       "      <td>Sales &amp; Marketing</td>\n",
       "      <td>Bachelor's</td>\n",
       "      <td>NaN</td>\n",
       "      <td>m</td>\n",
       "      <td>0.0</td>\n",
       "      <td>7</td>\n",
       "      <td>1</td>\n",
       "      <td>3.0</td>\n",
       "      <td>sourcing</td>\n",
       "      <td>region_19</td>\n",
       "    </tr>\n",
       "    <tr>\n",
       "      <th>2542</th>\n",
       "      <td>0</td>\n",
       "      <td>39</td>\n",
       "      <td>50</td>\n",
       "      <td>0</td>\n",
       "      <td>Sales &amp; Marketing</td>\n",
       "      <td>Bachelor's</td>\n",
       "      <td>NaN</td>\n",
       "      <td>m</td>\n",
       "      <td>0.0</td>\n",
       "      <td>10</td>\n",
       "      <td>2</td>\n",
       "      <td>1.0</td>\n",
       "      <td>other</td>\n",
       "      <td>region_23</td>\n",
       "    </tr>\n",
       "    <tr>\n",
       "      <th>48945</th>\n",
       "      <td>0</td>\n",
       "      <td>45</td>\n",
       "      <td>73</td>\n",
       "      <td>0</td>\n",
       "      <td>Technology</td>\n",
       "      <td>Bachelor's</td>\n",
       "      <td>NaN</td>\n",
       "      <td>m</td>\n",
       "      <td>0.0</td>\n",
       "      <td>2</td>\n",
       "      <td>1</td>\n",
       "      <td>3.0</td>\n",
       "      <td>other</td>\n",
       "      <td>region_26</td>\n",
       "    </tr>\n",
       "  </tbody>\n",
       "</table>\n",
       "</div>"
      ],
      "text/plain": [
       "       KPIs_met >80%  age  avg_training_score  awards_won?         department  \\\n",
       "65438              1   35                  49            0  Sales & Marketing   \n",
       "65141              0   30                  60            0         Operations   \n",
       "7513               0   34                  50            0  Sales & Marketing   \n",
       "2542               0   39                  50            0  Sales & Marketing   \n",
       "48945              0   45                  73            0         Technology   \n",
       "\n",
       "              education  employee_id gender  is_promoted  length_of_service  \\\n",
       "65438  Master's & above          NaN      f          0.0                  8   \n",
       "65141        Bachelor's          NaN      m          0.0                  4   \n",
       "7513         Bachelor's          NaN      m          0.0                  7   \n",
       "2542         Bachelor's          NaN      m          0.0                 10   \n",
       "48945        Bachelor's          NaN      m          0.0                  2   \n",
       "\n",
       "       no_of_trainings  previous_year_rating recruitment_channel     region  \n",
       "65438                1                   5.0            sourcing   region_7  \n",
       "65141                1                   5.0               other  region_22  \n",
       "7513                 1                   3.0            sourcing  region_19  \n",
       "2542                 2                   1.0               other  region_23  \n",
       "48945                1                   3.0               other  region_26  "
      ]
     },
     "execution_count": 156,
     "metadata": {},
     "output_type": "execute_result"
    }
   ],
   "source": [
    "df.head()"
   ]
  },
  {
   "cell_type": "code",
   "execution_count": null,
   "metadata": {},
   "outputs": [],
   "source": []
  },
  {
   "cell_type": "code",
   "execution_count": 157,
   "metadata": {},
   "outputs": [
    {
     "data": {
      "text/html": [
       "<div>\n",
       "<style scoped>\n",
       "    .dataframe tbody tr th:only-of-type {\n",
       "        vertical-align: middle;\n",
       "    }\n",
       "\n",
       "    .dataframe tbody tr th {\n",
       "        vertical-align: top;\n",
       "    }\n",
       "\n",
       "    .dataframe thead th {\n",
       "        text-align: right;\n",
       "    }\n",
       "</style>\n",
       "<table border=\"1\" class=\"dataframe\">\n",
       "  <thead>\n",
       "    <tr style=\"text-align: right;\">\n",
       "      <th></th>\n",
       "      <th>KPIs_met &gt;80%</th>\n",
       "      <th>age</th>\n",
       "      <th>avg_training_score</th>\n",
       "      <th>awards_won?</th>\n",
       "      <th>department</th>\n",
       "      <th>education</th>\n",
       "      <th>employee_id</th>\n",
       "      <th>gender</th>\n",
       "      <th>is_promoted</th>\n",
       "      <th>length_of_service</th>\n",
       "      <th>no_of_trainings</th>\n",
       "      <th>previous_year_rating</th>\n",
       "      <th>recruitment_channel</th>\n",
       "      <th>region</th>\n",
       "    </tr>\n",
       "  </thead>\n",
       "  <tbody>\n",
       "    <tr>\n",
       "      <th>count</th>\n",
       "      <td>78298.000000</td>\n",
       "      <td>78298.000000</td>\n",
       "      <td>78298.000000</td>\n",
       "      <td>78298.000000</td>\n",
       "      <td>78298</td>\n",
       "      <td>74855</td>\n",
       "      <td>23490.000000</td>\n",
       "      <td>78298</td>\n",
       "      <td>54808.000000</td>\n",
       "      <td>78298.000000</td>\n",
       "      <td>78298.000000</td>\n",
       "      <td>72362.000000</td>\n",
       "      <td>78298</td>\n",
       "      <td>78298</td>\n",
       "    </tr>\n",
       "    <tr>\n",
       "      <th>unique</th>\n",
       "      <td>NaN</td>\n",
       "      <td>NaN</td>\n",
       "      <td>NaN</td>\n",
       "      <td>NaN</td>\n",
       "      <td>9</td>\n",
       "      <td>3</td>\n",
       "      <td>NaN</td>\n",
       "      <td>2</td>\n",
       "      <td>NaN</td>\n",
       "      <td>NaN</td>\n",
       "      <td>NaN</td>\n",
       "      <td>NaN</td>\n",
       "      <td>3</td>\n",
       "      <td>34</td>\n",
       "    </tr>\n",
       "    <tr>\n",
       "      <th>top</th>\n",
       "      <td>NaN</td>\n",
       "      <td>NaN</td>\n",
       "      <td>NaN</td>\n",
       "      <td>NaN</td>\n",
       "      <td>Sales &amp; Marketing</td>\n",
       "      <td>Bachelor's</td>\n",
       "      <td>NaN</td>\n",
       "      <td>m</td>\n",
       "      <td>NaN</td>\n",
       "      <td>NaN</td>\n",
       "      <td>NaN</td>\n",
       "      <td>NaN</td>\n",
       "      <td>other</td>\n",
       "      <td>region_2</td>\n",
       "    </tr>\n",
       "    <tr>\n",
       "      <th>freq</th>\n",
       "      <td>NaN</td>\n",
       "      <td>NaN</td>\n",
       "      <td>NaN</td>\n",
       "      <td>NaN</td>\n",
       "      <td>24155</td>\n",
       "      <td>52247</td>\n",
       "      <td>NaN</td>\n",
       "      <td>55092</td>\n",
       "      <td>NaN</td>\n",
       "      <td>NaN</td>\n",
       "      <td>NaN</td>\n",
       "      <td>NaN</td>\n",
       "      <td>43524</td>\n",
       "      <td>17642</td>\n",
       "    </tr>\n",
       "    <tr>\n",
       "      <th>mean</th>\n",
       "      <td>0.354032</td>\n",
       "      <td>34.797619</td>\n",
       "      <td>63.349664</td>\n",
       "      <td>0.023053</td>\n",
       "      <td>NaN</td>\n",
       "      <td>NaN</td>\n",
       "      <td>39041.399149</td>\n",
       "      <td>NaN</td>\n",
       "      <td>0.085170</td>\n",
       "      <td>5.848974</td>\n",
       "      <td>1.253378</td>\n",
       "      <td>3.332219</td>\n",
       "      <td>NaN</td>\n",
       "      <td>NaN</td>\n",
       "    </tr>\n",
       "    <tr>\n",
       "      <th>std</th>\n",
       "      <td>0.478222</td>\n",
       "      <td>7.665928</td>\n",
       "      <td>13.383664</td>\n",
       "      <td>0.150073</td>\n",
       "      <td>NaN</td>\n",
       "      <td>NaN</td>\n",
       "      <td>22640.809201</td>\n",
       "      <td>NaN</td>\n",
       "      <td>0.279137</td>\n",
       "      <td>4.248070</td>\n",
       "      <td>0.606766</td>\n",
       "      <td>1.260982</td>\n",
       "      <td>NaN</td>\n",
       "      <td>NaN</td>\n",
       "    </tr>\n",
       "    <tr>\n",
       "      <th>min</th>\n",
       "      <td>0.000000</td>\n",
       "      <td>20.000000</td>\n",
       "      <td>39.000000</td>\n",
       "      <td>0.000000</td>\n",
       "      <td>NaN</td>\n",
       "      <td>NaN</td>\n",
       "      <td>3.000000</td>\n",
       "      <td>NaN</td>\n",
       "      <td>0.000000</td>\n",
       "      <td>1.000000</td>\n",
       "      <td>1.000000</td>\n",
       "      <td>1.000000</td>\n",
       "      <td>NaN</td>\n",
       "      <td>NaN</td>\n",
       "    </tr>\n",
       "    <tr>\n",
       "      <th>25%</th>\n",
       "      <td>0.000000</td>\n",
       "      <td>29.000000</td>\n",
       "      <td>51.000000</td>\n",
       "      <td>0.000000</td>\n",
       "      <td>NaN</td>\n",
       "      <td>NaN</td>\n",
       "      <td>19370.250000</td>\n",
       "      <td>NaN</td>\n",
       "      <td>0.000000</td>\n",
       "      <td>3.000000</td>\n",
       "      <td>1.000000</td>\n",
       "      <td>3.000000</td>\n",
       "      <td>NaN</td>\n",
       "      <td>NaN</td>\n",
       "    </tr>\n",
       "    <tr>\n",
       "      <th>50%</th>\n",
       "      <td>0.000000</td>\n",
       "      <td>33.000000</td>\n",
       "      <td>60.000000</td>\n",
       "      <td>0.000000</td>\n",
       "      <td>NaN</td>\n",
       "      <td>NaN</td>\n",
       "      <td>38963.500000</td>\n",
       "      <td>NaN</td>\n",
       "      <td>0.000000</td>\n",
       "      <td>5.000000</td>\n",
       "      <td>1.000000</td>\n",
       "      <td>3.000000</td>\n",
       "      <td>NaN</td>\n",
       "      <td>NaN</td>\n",
       "    </tr>\n",
       "    <tr>\n",
       "      <th>75%</th>\n",
       "      <td>1.000000</td>\n",
       "      <td>39.000000</td>\n",
       "      <td>76.000000</td>\n",
       "      <td>0.000000</td>\n",
       "      <td>NaN</td>\n",
       "      <td>NaN</td>\n",
       "      <td>58690.000000</td>\n",
       "      <td>NaN</td>\n",
       "      <td>0.000000</td>\n",
       "      <td>7.000000</td>\n",
       "      <td>1.000000</td>\n",
       "      <td>4.000000</td>\n",
       "      <td>NaN</td>\n",
       "      <td>NaN</td>\n",
       "    </tr>\n",
       "    <tr>\n",
       "      <th>max</th>\n",
       "      <td>1.000000</td>\n",
       "      <td>60.000000</td>\n",
       "      <td>99.000000</td>\n",
       "      <td>1.000000</td>\n",
       "      <td>NaN</td>\n",
       "      <td>NaN</td>\n",
       "      <td>78295.000000</td>\n",
       "      <td>NaN</td>\n",
       "      <td>1.000000</td>\n",
       "      <td>37.000000</td>\n",
       "      <td>10.000000</td>\n",
       "      <td>5.000000</td>\n",
       "      <td>NaN</td>\n",
       "      <td>NaN</td>\n",
       "    </tr>\n",
       "  </tbody>\n",
       "</table>\n",
       "</div>"
      ],
      "text/plain": [
       "        KPIs_met >80%           age  avg_training_score   awards_won?  \\\n",
       "count    78298.000000  78298.000000        78298.000000  78298.000000   \n",
       "unique            NaN           NaN                 NaN           NaN   \n",
       "top               NaN           NaN                 NaN           NaN   \n",
       "freq              NaN           NaN                 NaN           NaN   \n",
       "mean         0.354032     34.797619           63.349664      0.023053   \n",
       "std          0.478222      7.665928           13.383664      0.150073   \n",
       "min          0.000000     20.000000           39.000000      0.000000   \n",
       "25%          0.000000     29.000000           51.000000      0.000000   \n",
       "50%          0.000000     33.000000           60.000000      0.000000   \n",
       "75%          1.000000     39.000000           76.000000      0.000000   \n",
       "max          1.000000     60.000000           99.000000      1.000000   \n",
       "\n",
       "               department   education   employee_id gender   is_promoted  \\\n",
       "count               78298       74855  23490.000000  78298  54808.000000   \n",
       "unique                  9           3           NaN      2           NaN   \n",
       "top     Sales & Marketing  Bachelor's           NaN      m           NaN   \n",
       "freq                24155       52247           NaN  55092           NaN   \n",
       "mean                  NaN         NaN  39041.399149    NaN      0.085170   \n",
       "std                   NaN         NaN  22640.809201    NaN      0.279137   \n",
       "min                   NaN         NaN      3.000000    NaN      0.000000   \n",
       "25%                   NaN         NaN  19370.250000    NaN      0.000000   \n",
       "50%                   NaN         NaN  38963.500000    NaN      0.000000   \n",
       "75%                   NaN         NaN  58690.000000    NaN      0.000000   \n",
       "max                   NaN         NaN  78295.000000    NaN      1.000000   \n",
       "\n",
       "        length_of_service  no_of_trainings  previous_year_rating  \\\n",
       "count        78298.000000     78298.000000          72362.000000   \n",
       "unique                NaN              NaN                   NaN   \n",
       "top                   NaN              NaN                   NaN   \n",
       "freq                  NaN              NaN                   NaN   \n",
       "mean             5.848974         1.253378              3.332219   \n",
       "std              4.248070         0.606766              1.260982   \n",
       "min              1.000000         1.000000              1.000000   \n",
       "25%              3.000000         1.000000              3.000000   \n",
       "50%              5.000000         1.000000              3.000000   \n",
       "75%              7.000000         1.000000              4.000000   \n",
       "max             37.000000        10.000000              5.000000   \n",
       "\n",
       "       recruitment_channel    region  \n",
       "count                78298     78298  \n",
       "unique                   3        34  \n",
       "top                  other  region_2  \n",
       "freq                 43524     17642  \n",
       "mean                   NaN       NaN  \n",
       "std                    NaN       NaN  \n",
       "min                    NaN       NaN  \n",
       "25%                    NaN       NaN  \n",
       "50%                    NaN       NaN  \n",
       "75%                    NaN       NaN  \n",
       "max                    NaN       NaN  "
      ]
     },
     "execution_count": 157,
     "metadata": {},
     "output_type": "execute_result"
    }
   ],
   "source": [
    "#identify a set of employees based on recommendations/ past performance\n",
    "df.describe(include='all')"
   ]
  },
  {
   "cell_type": "code",
   "execution_count": 158,
   "metadata": {},
   "outputs": [
    {
     "data": {
      "text/plain": [
       "KPIs_met >80%               0\n",
       "age                         0\n",
       "avg_training_score          0\n",
       "awards_won?                 0\n",
       "department                  0\n",
       "education                3443\n",
       "employee_id             54808\n",
       "gender                      0\n",
       "is_promoted             23490\n",
       "length_of_service           0\n",
       "no_of_trainings             0\n",
       "previous_year_rating     5936\n",
       "recruitment_channel         0\n",
       "region                      0\n",
       "dtype: int64"
      ]
     },
     "execution_count": 158,
     "metadata": {},
     "output_type": "execute_result"
    }
   ],
   "source": [
    "df.isnull().sum()"
   ]
  },
  {
   "cell_type": "markdown",
   "metadata": {},
   "source": [
    "1.education,previous_year_rating columns has missing values\n"
   ]
  },
  {
   "cell_type": "markdown",
   "metadata": {},
   "source": [
    "# Univariate-Continuous variable"
   ]
  },
  {
   "cell_type": "code",
   "execution_count": 159,
   "metadata": {},
   "outputs": [
    {
     "data": {
      "text/plain": [
       "(array([ 1272., 10044., 19690., 17889., 11834.,  7263.,  4053.,  2703.,\n",
       "         1917.,  1633.]),\n",
       " array([20., 24., 28., 32., 36., 40., 44., 48., 52., 56., 60.]),\n",
       " <a list of 10 Patch objects>)"
      ]
     },
     "execution_count": 159,
     "metadata": {},
     "output_type": "execute_result"
    },
    {
     "data": {
      "image/png": "[encoded data removed]",
      "text/plain": [
       "<Figure size 432x288 with 1 Axes>"
      ]
     },
     "metadata": {
      "needs_background": "light"
     },
     "output_type": "display_data"
    }
   ],
   "source": [
    "plt.hist(df.age)"
   ]
  },
  {
   "cell_type": "code",
   "execution_count": 160,
   "metadata": {},
   "outputs": [],
   "source": [
    "def Bands(age):\n",
    "    if age <=29:\n",
    "        return 1\n",
    "    elif age>29 and age<=33:\n",
    "        return 2\n",
    "    elif age>33 and age<=39:\n",
    "        return 3\n",
    "    else:\n",
    "        return 4\n",
    "\n",
    "df['bands']=df['age'].apply(Bands)"
   ]
  },
  {
   "cell_type": "code",
   "execution_count": 161,
   "metadata": {},
   "outputs": [
    {
     "data": {
      "text/plain": [
       "<matplotlib.axes._subplots.AxesSubplot at 0x2a7c793ea88>"
      ]
     },
     "execution_count": 161,
     "metadata": {},
     "output_type": "execute_result"
    },
    {
     "data": {
      "image/png": "[encoded data removed]",
      "text/plain": [
       "<Figure size 432x288 with 1 Axes>"
      ]
     },
     "metadata": {
      "needs_background": "light"
     },
     "output_type": "display_data"
    }
   ],
   "source": [
    "sns.boxplot(df.age)"
   ]
  },
  {
   "cell_type": "code",
   "execution_count": 162,
   "metadata": {},
   "outputs": [
    {
     "data": {
      "text/plain": [
       "<matplotlib.axes._subplots.AxesSubplot at 0x2a7c7fa77c8>"
      ]
     },
     "execution_count": 162,
     "metadata": {},
     "output_type": "execute_result"
    },
    {
     "data": {
      "image/png": "[encoded data removed]",
      "text/plain": [
       "<Figure size 432x288 with 1 Axes>"
      ]
     },
     "metadata": {
      "needs_background": "light"
     },
     "output_type": "display_data"
    }
   ],
   "source": [
    "sns.boxplot(df.length_of_service)"
   ]
  },
  {
   "cell_type": "code",
   "execution_count": 163,
   "metadata": {},
   "outputs": [
    {
     "data": {
      "text/plain": [
       "(array([3.5906e+04, 2.7237e+04, 8.1010e+03, 3.7230e+03, 1.9540e+03,\n",
       "        8.5600e+02, 3.1400e+02, 1.3400e+02, 6.6000e+01, 7.0000e+00]),\n",
       " array([ 1. ,  4.6,  8.2, 11.8, 15.4, 19. , 22.6, 26.2, 29.8, 33.4, 37. ]),\n",
       " <a list of 10 Patch objects>)"
      ]
     },
     "execution_count": 163,
     "metadata": {},
     "output_type": "execute_result"
    },
    {
     "data": {
      "image/png": "[encoded data removed]",
      "text/plain": [
       "<Figure size 432x288 with 1 Axes>"
      ]
     },
     "metadata": {
      "needs_background": "light"
     },
     "output_type": "display_data"
    }
   ],
   "source": [
    "plt.hist(df.length_of_service)"
   ]
  },
  {
   "cell_type": "code",
   "execution_count": 164,
   "metadata": {},
   "outputs": [
    {
     "data": {
      "text/plain": [
       "<matplotlib.axes._subplots.AxesSubplot at 0x2a7c80897c8>"
      ]
     },
     "execution_count": 164,
     "metadata": {},
     "output_type": "execute_result"
    },
    {
     "data": {
      "image/png": "[encoded data removed]",
      "text/plain": [
       "<Figure size 432x288 with 1 Axes>"
      ]
     },
     "metadata": {
      "needs_background": "light"
     },
     "output_type": "display_data"
    }
   ],
   "source": [
    "sns.boxplot(df.avg_training_score)"
   ]
  },
  {
   "cell_type": "markdown",
   "metadata": {},
   "source": [
    "# Univariate-Categorical variable"
   ]
  },
  {
   "cell_type": "code",
   "execution_count": 165,
   "metadata": {},
   "outputs": [
    {
     "data": {
      "text/plain": [
       "<matplotlib.axes._subplots.AxesSubplot at 0x2a7c8ebd648>"
      ]
     },
     "execution_count": 165,
     "metadata": {},
     "output_type": "execute_result"
    },
    {
     "data": {
      "image/png": "[encoded data removed]",
      "text/plain": [
       "<Figure size 432x288 with 1 Axes>"
      ]
     },
     "metadata": {
      "needs_background": "light"
     },
     "output_type": "display_data"
    }
   ],
   "source": [
    "df['KPIs_met >80%'].value_counts().plot.bar(color='slateblue')\n",
    "#Key performance Indicators >80% then 1 else 0\n"
   ]
  },
  {
   "cell_type": "code",
   "execution_count": 166,
   "metadata": {},
   "outputs": [
    {
     "name": "stdout",
     "output_type": "stream",
     "text": [
      "Sales & Marketing    30.850086\n",
      "Operations           20.577793\n",
      "Procurement          12.973511\n",
      "Technology           12.962017\n",
      "Analytics             9.797185\n",
      "Finance               4.632302\n",
      "HR                    4.473933\n",
      "Legal                 1.895323\n",
      "R&D                   1.837850\n",
      "Name: department, dtype: float64\n"
     ]
    },
    {
     "data": {
      "image/png": "[encoded data removed]",
      "text/plain": [
       "<Figure size 432x288 with 1 Axes>"
      ]
     },
     "metadata": {
      "needs_background": "light"
     },
     "output_type": "display_data"
    }
   ],
   "source": [
    "df['department'].value_counts().plot.bar(color='slateblue')\n",
    "print(df['department'].value_counts()/len(df['department'])*100)"
   ]
  },
  {
   "cell_type": "code",
   "execution_count": 167,
   "metadata": {},
   "outputs": [
    {
     "name": "stdout",
     "output_type": "stream",
     "text": [
      "Bachelor's          66.728397\n",
      "Master's & above    27.368515\n",
      "Below Secondary      1.505786\n",
      "Name: education, dtype: float64\n"
     ]
    },
    {
     "data": {
      "image/png": "[encoded data removed]",
      "text/plain": [
       "<Figure size 432x288 with 1 Axes>"
      ]
     },
     "metadata": {
      "needs_background": "light"
     },
     "output_type": "display_data"
    }
   ],
   "source": [
    "df['education'].value_counts().plot.bar(color='slateblue')\n",
    "print(df['education'].value_counts()/len(df['education'])*100)"
   ]
  },
  {
   "cell_type": "code",
   "execution_count": 168,
   "metadata": {},
   "outputs": [
    {
     "name": "stdout",
     "output_type": "stream",
     "text": [
      "m    70.36195\n",
      "f    29.63805\n",
      "Name: gender, dtype: float64\n"
     ]
    },
    {
     "data": {
      "image/png": "[encoded data removed]",
      "text/plain": [
       "<Figure size 432x288 with 1 Axes>"
      ]
     },
     "metadata": {
      "needs_background": "light"
     },
     "output_type": "display_data"
    }
   ],
   "source": [
    "df['gender'].value_counts().plot.bar(color='slateblue')\n",
    "print(df['gender'].value_counts()/len(df['gender'])*100)"
   ]
  },
  {
   "cell_type": "code",
   "execution_count": 169,
   "metadata": {},
   "outputs": [
    {
     "name": "stdout",
     "output_type": "stream",
     "text": [
      "region_2     22.531865\n",
      "region_22    11.707834\n",
      "region_7      8.716698\n",
      "region_15     5.029503\n",
      "region_13     4.872411\n",
      "region_26     4.177629\n",
      "region_31     3.549261\n",
      "region_4      3.164832\n",
      "region_27     3.025620\n",
      "region_16     2.624588\n",
      "region_28     2.443230\n",
      "region_11     2.408746\n",
      "region_23     2.159698\n",
      "region_29     1.798258\n",
      "region_32     1.759943\n",
      "region_19     1.639889\n",
      "region_14     1.503231\n",
      "region_20     1.501954\n",
      "region_17     1.477688\n",
      "region_25     1.476411\n",
      "region_5      1.415106\n",
      "region_6      1.261846\n",
      "region_30     1.187770\n",
      "region_8      1.180107\n",
      "region_10     1.171167\n",
      "region_1      1.083042\n",
      "region_24     0.928504\n",
      "region_12     0.913178\n",
      "region_9      0.766303\n",
      "region_21     0.753531\n",
      "region_3      0.629646\n",
      "region_34     0.570896\n",
      "region_33     0.504483\n",
      "region_18     0.065136\n",
      "Name: region, dtype: float64\n"
     ]
    },
    {
     "data": {
      "image/png": "[encoded data removed]",
      "text/plain": [
       "<Figure size 720x504 with 1 Axes>"
      ]
     },
     "metadata": {
      "needs_background": "light"
     },
     "output_type": "display_data"
    }
   ],
   "source": [
    "plt.figure(figsize=(10,7))\n",
    "df['region'].value_counts().plot.bar(color='slateblue')\n",
    "print(df['region'].value_counts()/len(df['region'])*100)"
   ]
  },
  {
   "cell_type": "code",
   "execution_count": 170,
   "metadata": {},
   "outputs": [
    {
     "name": "stdout",
     "output_type": "stream",
     "text": [
      "other       55.587627\n",
      "sourcing    42.377839\n",
      "referred     2.034535\n",
      "Name: recruitment_channel, dtype: float64\n"
     ]
    },
    {
     "data": {
      "image/png": "[encoded data removed]",
      "text/plain": [
       "<Figure size 432x288 with 1 Axes>"
      ]
     },
     "metadata": {
      "needs_background": "light"
     },
     "output_type": "display_data"
    }
   ],
   "source": [
    "df['recruitment_channel'].value_counts().plot.bar(color='slateblue')\n",
    "print(df['recruitment_channel'].value_counts()/len(df['recruitment_channel'])*100)"
   ]
  },
  {
   "cell_type": "markdown",
   "metadata": {},
   "source": [
    "1.Outliers in age(right skewed),length_of_service(right skewed),no_of_trainings\n",
    "2.Missing values in Education,previous_year_rating\n",
    "3.Region 2 has high employment"
   ]
  },
  {
   "cell_type": "code",
   "execution_count": 171,
   "metadata": {},
   "outputs": [
    {
     "name": "stdout",
     "output_type": "stream",
     "text": [
      "Index(['department', 'education', 'gender', 'recruitment_channel', 'region'], dtype='object')\n"
     ]
    },
    {
     "data": {
      "text/html": [
       "<div>\n",
       "<style scoped>\n",
       "    .dataframe tbody tr th:only-of-type {\n",
       "        vertical-align: middle;\n",
       "    }\n",
       "\n",
       "    .dataframe tbody tr th {\n",
       "        vertical-align: top;\n",
       "    }\n",
       "\n",
       "    .dataframe thead th {\n",
       "        text-align: right;\n",
       "    }\n",
       "</style>\n",
       "<table border=\"1\" class=\"dataframe\">\n",
       "  <thead>\n",
       "    <tr style=\"text-align: right;\">\n",
       "      <th></th>\n",
       "      <th>department</th>\n",
       "      <th>education</th>\n",
       "      <th>gender</th>\n",
       "      <th>recruitment_channel</th>\n",
       "      <th>region</th>\n",
       "    </tr>\n",
       "  </thead>\n",
       "  <tbody>\n",
       "    <tr>\n",
       "      <th>65438</th>\n",
       "      <td>Sales &amp; Marketing</td>\n",
       "      <td>Master's &amp; above</td>\n",
       "      <td>f</td>\n",
       "      <td>sourcing</td>\n",
       "      <td>region_7</td>\n",
       "    </tr>\n",
       "    <tr>\n",
       "      <th>65141</th>\n",
       "      <td>Operations</td>\n",
       "      <td>Bachelor's</td>\n",
       "      <td>m</td>\n",
       "      <td>other</td>\n",
       "      <td>region_22</td>\n",
       "    </tr>\n",
       "    <tr>\n",
       "      <th>7513</th>\n",
       "      <td>Sales &amp; Marketing</td>\n",
       "      <td>Bachelor's</td>\n",
       "      <td>m</td>\n",
       "      <td>sourcing</td>\n",
       "      <td>region_19</td>\n",
       "    </tr>\n",
       "    <tr>\n",
       "      <th>2542</th>\n",
       "      <td>Sales &amp; Marketing</td>\n",
       "      <td>Bachelor's</td>\n",
       "      <td>m</td>\n",
       "      <td>other</td>\n",
       "      <td>region_23</td>\n",
       "    </tr>\n",
       "    <tr>\n",
       "      <th>48945</th>\n",
       "      <td>Technology</td>\n",
       "      <td>Bachelor's</td>\n",
       "      <td>m</td>\n",
       "      <td>other</td>\n",
       "      <td>region_26</td>\n",
       "    </tr>\n",
       "  </tbody>\n",
       "</table>\n",
       "</div>"
      ],
      "text/plain": [
       "              department         education gender recruitment_channel  \\\n",
       "65438  Sales & Marketing  Master's & above      f            sourcing   \n",
       "65141         Operations        Bachelor's      m               other   \n",
       "7513   Sales & Marketing        Bachelor's      m            sourcing   \n",
       "2542   Sales & Marketing        Bachelor's      m               other   \n",
       "48945         Technology        Bachelor's      m               other   \n",
       "\n",
       "          region  \n",
       "65438   region_7  \n",
       "65141  region_22  \n",
       "7513   region_19  \n",
       "2542   region_23  \n",
       "48945  region_26  "
      ]
     },
     "execution_count": 171,
     "metadata": {},
     "output_type": "execute_result"
    }
   ],
   "source": [
    "categorical=df.select_dtypes(include=['object'])\n",
    "print(categorical.columns)\n",
    "categorical.head()\n"
   ]
  },
  {
   "cell_type": "code",
   "execution_count": 172,
   "metadata": {},
   "outputs": [],
   "source": [
    "df['education']=df.education.replace([\"Bachelor's\",\"Master's & above\",\"Below Secondary\"],['Bachelor','Master and above','Below secondary'])"
   ]
  },
  {
   "cell_type": "code",
   "execution_count": 173,
   "metadata": {},
   "outputs": [],
   "source": [
    "##One hot encoding\n",
    "df=pd.concat([df[['no_of_trainings','age','previous_year_rating','length_of_service','KPIs_met >80%','awards_won?','avg_training_score','is_promoted']],\n",
    "               pd.get_dummies(categorical)],axis=1)"
   ]
  },
  {
   "cell_type": "code",
   "execution_count": 174,
   "metadata": {},
   "outputs": [],
   "source": [
    "##Scaling\n",
    "# Scale the numerical features using StandardScalar\n",
    "from sklearn.preprocessing import StandardScaler\n",
    "numeric= ['age', 'avg_training_score','length_of_service',\n",
    "       'no_of_trainings', 'previous_year_rating','KPIs_met >80%','awards_won?']\n",
    "scaler = StandardScaler()\n",
    "\n",
    "df[numeric] = scaler.fit_transform(\n",
    "df[numeric])"
   ]
  },
  {
   "cell_type": "code",
   "execution_count": 177,
   "metadata": {},
   "outputs": [
    {
     "data": {
      "text/plain": [
       "(78298, 59)"
      ]
     },
     "execution_count": 177,
     "metadata": {},
     "output_type": "execute_result"
    }
   ],
   "source": [
    "df.shape"
   ]
  },
  {
   "cell_type": "code",
   "execution_count": 181,
   "metadata": {},
   "outputs": [],
   "source": [
    "\n",
    "\n",
    "X_validation = df[54808:]\n",
    "X=df[0:54808]\n",
    "Y=X['is_promoted']"
   ]
  },
  {
   "cell_type": "code",
   "execution_count": 182,
   "metadata": {},
   "outputs": [],
   "source": [
    "df.dropna(inplace=True)"
   ]
  },
  {
   "cell_type": "code",
   "execution_count": 183,
   "metadata": {},
   "outputs": [],
   "source": [
    "from sklearn.model_selection import train_test_split\n",
    "x = df.drop(columns = ['is_promoted'])\n",
    "y= df['is_promoted']\n",
    "x_train, x_test, y_train, y_test = train_test_split(x,y, test_size = 0.3,random_state = 0)\n",
    "\n"
   ]
  },
  {
   "cell_type": "code",
   "execution_count": 184,
   "metadata": {},
   "outputs": [],
   "source": [
    "from xgboost.sklearn import XGBClassifier\n",
    "from sklearn.metrics import accuracy_score, classification_report, confusion_matrix, f1_score"
   ]
  },
  {
   "cell_type": "code",
   "execution_count": 185,
   "metadata": {},
   "outputs": [
    {
     "name": "stdout",
     "output_type": "stream",
     "text": [
      "The accuracy of xgb_model :  0.9404840194660002\n",
      "The f1 score of xgb_model:  0.5013774104683195\n"
     ]
    }
   ],
   "source": [
    "xgb= XGBClassifier()\n",
    "xg_model =xgb.fit(x_train, y_train)\n",
    "\n",
    "# Predict\n",
    "pred_xgb = xg_model.predict(x_test)\n",
    "\n",
    "print (\"The accuracy of xgb_model : \",accuracy_score(y_test, pred_xgb))\n",
    "print (\"The f1 score of xgb_model: \", f1_score(y_test, pred_xgb, average = 'binary'))"
   ]
  },
  {
   "cell_type": "code",
   "execution_count": 186,
   "metadata": {},
   "outputs": [],
   "source": [
    "from sklearn.ensemble import RandomForestClassifier\n",
    "import warnings; warnings.simplefilter('ignore')"
   ]
  },
  {
   "cell_type": "code",
   "execution_count": 187,
   "metadata": {},
   "outputs": [
    {
     "name": "stdout",
     "output_type": "stream",
     "text": [
      "The accuracy of rf_model :  0.9313428909640932\n",
      "The f1 score of rf_model:  0.3887587822014052\n"
     ]
    }
   ],
   "source": [
    "rf = RandomForestClassifier(n_estimators = 200)\n",
    "rf_model = rf.fit(x_train, y_train)\n",
    "\n",
    "# Predict\n",
    "pred_2 = rf_model.predict(x_test)\n",
    "\n",
    "print (\"The accuracy of rf_model : \",accuracy_score(y_test, pred_2))\n",
    "print (\"The f1 score of rf_model: \", f1_score(y_test, pred_2, average = 'binary'))"
   ]
  },
  {
   "cell_type": "code",
   "execution_count": 188,
   "metadata": {},
   "outputs": [
    {
     "data": {
      "text/plain": [
       "0.0    46355\n",
       "1.0     4329\n",
       "Name: is_promoted, dtype: int64"
      ]
     },
     "execution_count": 188,
     "metadata": {},
     "output_type": "execute_result"
    }
   ],
   "source": [
    "#observation:Distribution is uneven \n",
    "y.value_counts()"
   ]
  },
  {
   "cell_type": "code",
   "execution_count": 189,
   "metadata": {},
   "outputs": [
    {
     "name": "stdout",
     "output_type": "stream",
     "text": [
      "Wall time: 2.33 s\n"
     ]
    },
    {
     "data": {
      "image/png": "[encoded data removed]",
      "text/plain": [
       "<Figure size 432x288 with 1 Axes>"
      ]
     },
     "metadata": {
      "needs_background": "light"
     },
     "output_type": "display_data"
    }
   ],
   "source": [
    "%%time\n",
    "from imblearn.over_sampling import SMOTE \n",
    "sm = SMOTE(random_state=42)\n",
    "X_res, y_res = sm.fit_resample(x, y)\n",
    "X_res = pd.DataFrame(X_res,columns=x.columns)\n",
    "sns.countplot(y_res).set_title('After SMOTE target variable distribution')\n",
    "plt.savefig('After SMOTE target variable distribution.png')\n",
    "x_train1,x_test1,y_train1,y_test1 = train_test_split(X_res,y_res,train_size=.7,random_state=1)"
   ]
  },
  {
   "cell_type": "markdown",
   "metadata": {},
   "source": [
    "# GridSearchCV and hyperparameter tunning"
   ]
  },
  {
   "cell_type": "code",
   "execution_count": 190,
   "metadata": {},
   "outputs": [],
   "source": [
    "from sklearn.model_selection import GridSearchCV,StratifiedKFold"
   ]
  },
  {
   "cell_type": "code",
   "execution_count": 191,
   "metadata": {},
   "outputs": [
    {
     "name": "stdout",
     "output_type": "stream",
     "text": [
      "The accuracy of rf_model :  0.9611346803767886\n",
      "The f1 score of rf_model:  0.9606923384604197\n"
     ]
    }
   ],
   "source": [
    "rf2 = RandomForestClassifier(bootstrap=False, criterion='gini',\n",
    "                       max_depth=None , max_features=5,\n",
    "                       min_samples_leaf=1, min_samples_split=2,n_estimators=15)\n",
    "rf_model2 = rf2.fit(x_train1, y_train1)\n",
    "\n",
    "# Predict\n",
    "pred_smote2 = rf_model2.predict(x_test1)\n",
    "\n",
    "print (\"The accuracy of rf_model : \",accuracy_score(y_test1, pred_smote2))\n",
    "print (\"The f1 score of rf_model: \", f1_score(y_test1, pred_smote2, average = 'binary'))"
   ]
  },
  {
   "cell_type": "code",
   "execution_count": 192,
   "metadata": {},
   "outputs": [
    {
     "name": "stdout",
     "output_type": "stream",
     "text": [
      "The accuracy of xgb_model2 :  0.9620335083051701\n",
      "The f1 score of xgb_model2:  0.9607318161535029\n"
     ]
    }
   ],
   "source": [
    "from xgboost.sklearn import XGBClassifier\n",
    "xgb2= XGBClassifier(base_score=0.5, booster='gbtree', \n",
    "              learning_rate=0.4, max_depth=3, n_estimators=100,objective='binary:logistic', random_state=0, seed=None,cv=5)\n",
    "xg_model2 =xgb2.fit(x_train1, y_train1)\n",
    "\n",
    "# Predict\n",
    "pred_xgb2 = xg_model2.predict(x_test1)\n",
    "\n",
    "print (\"The accuracy of xgb_model2 : \",accuracy_score(y_test1, pred_xgb2))\n",
    "print (\"The f1 score of xgb_model2: \", f1_score(y_test1, pred_xgb2, average = 'binary'))"
   ]
  },
  {
   "cell_type": "code",
   "execution_count": null,
   "metadata": {},
   "outputs": [],
   "source": []
  },
  {
   "cell_type": "code",
   "execution_count": null,
   "metadata": {},
   "outputs": [],
   "source": []
  },
  {
   "cell_type": "code",
   "execution_count": null,
   "metadata": {},
   "outputs": [],
   "source": []
  },
  {
   "cell_type": "code",
   "execution_count": null,
   "metadata": {},
   "outputs": [],
   "source": []
  }
 ],
 "metadata": {
  "kernelspec": {
   "display_name": "Python 3",
   "language": "python",
   "name": "python3"
  },
  "language_info": {
   "codemirror_mode": {
    "name": "ipython",
    "version": 3
   },
   "file_extension": ".py",
   "mimetype": "text/x-python",
   "name": "python",
   "nbconvert_exporter": "python",
   "pygments_lexer": "ipython3",
   "version": "3.7.4"
  }
 },
 "nbformat": 4,
 "nbformat_minor": 2
}
